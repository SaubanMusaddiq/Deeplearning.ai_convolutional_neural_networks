{
 "cells": [
  {
   "cell_type": "markdown",
   "metadata": {},
   "source": [
    "# Keras tutorial - Emotion Detection in Images of Faces\n",
    "\n",
    "Welcome to the first assignment of week 2. In this assignment, you will:\n",
    "1. Learn to use Keras, a high-level neural networks API (programming framework), written in Python and capable of running on top of several lower-level frameworks including TensorFlow and CNTK. \n",
    "2. See how you can in a couple of hours build a deep learning algorithm.\n",
    "\n",
    "#### Why are we using Keras? \n",
    "\n",
    "* Keras was developed to enable deep learning engineers to build and experiment with different models very quickly. \n",
    "* Just as TensorFlow is a higher-level framework than Python, Keras is an even higher-level framework and provides additional abstractions. \n",
    "* Being able to go from idea to result with the least possible delay is key to finding good models. \n",
    "* However, Keras is more restrictive than the lower-level frameworks, so there are some very complex models that you would still implement in TensorFlow rather than in Keras. \n",
    "* That being said, Keras will work fine for many common models. "
   ]
  },
  {
   "cell_type": "markdown",
   "metadata": {},
   "source": [
    "## <font color='darkblue'>Updates</font>\n",
    "\n",
    "#### If you were working on the notebook before this update...\n",
    "* The current notebook is version \"v2a\".\n",
    "* You can find your original work saved in the notebook with the previous version name (\"v2\").\n",
    "* To view the file directory, go to the menu \"File->Open\", and this will open a new tab that shows the file directory.\n",
    "\n",
    "#### List of updates\n",
    "* Changed back-story of model to \"emotion detection\" from \"happy house.\"\n",
    "* Cleaned/organized wording of instructions and commentary.\n",
    "* Added instructions on how to set `input_shape`\n",
    "* Added explanation of \"objects as functions\" syntax.\n",
    "* Clarified explanation of variable naming convention.\n",
    "* Added hints for steps 1,2,3,4"
   ]
  },
  {
   "cell_type": "markdown",
   "metadata": {},
   "source": [
    "## Load packages\n",
    "* In this exercise, you'll work on the \"Emotion detection\" model, which we'll explain below. \n",
    "* Let's load the required packages."
   ]
  },
  {
   "cell_type": "code",
   "execution_count": 17,
   "metadata": {
    "collapsed": true
   },
   "outputs": [],
   "source": [
    "import numpy as np\n",
    "from keras import layers\n",
    "from keras.layers import Input, Dense, Activation, ZeroPadding2D, BatchNormalization, Flatten, Conv2D\n",
    "from keras.layers import AveragePooling2D, MaxPooling2D, Dropout, GlobalMaxPooling2D, GlobalAveragePooling2D\n",
    "from keras.models import Model\n",
    "from keras.preprocessing import image\n",
    "from keras.utils import layer_utils\n",
    "from keras.utils.data_utils import get_file\n",
    "from keras.applications.imagenet_utils import preprocess_input\n",
    "import pydot\n",
    "from IPython.display import SVG\n",
    "from keras.utils.vis_utils import model_to_dot\n",
    "from keras.utils import plot_model\n",
    "from kt_utils import *\n",
    "\n",
    "import keras.backend as K\n",
    "K.set_image_data_format('channels_last')\n",
    "import matplotlib.pyplot as plt\n",
    "from matplotlib.pyplot import imshow\n",
    "\n",
    "%matplotlib inline"
   ]
  },
  {
   "cell_type": "markdown",
   "metadata": {},
   "source": [
    "**Note**: As you can see, we've imported a lot of functions from Keras. You can use them by calling them directly in your code. Ex: `X = Input(...)` or `X = ZeroPadding2D(...)`. \n",
    "\n",
    "In other words, unlike TensorFlow, you don't have to create the graph and then make a separate `sess.run()` call to evaluate those variables."
   ]
  },
  {
   "cell_type": "markdown",
   "metadata": {},
   "source": [
    "## 1 - Emotion Tracking\n",
    "\n",
    "* A nearby community health clinic is helping the local residents monitor their mental health.  \n",
    "* As part of their study, they are asking volunteers to record their emotions throughout the day.\n",
    "* To help the participants more easily track their emotions, you are asked to create an app that will classify their emotions based on some pictures that the volunteers will take of their facial expressions.\n",
    "* As a proof-of-concept, you first train your model to detect if someone's emotion is classified as \"happy\" or \"not happy.\"\n",
    "\n",
    "To build and train this model, you have gathered pictures of some volunteers in a nearby neighborhood. The dataset is labeled.\n",
    "<img src=\"images/face_images.png\" style=\"width:550px;height:250px;\">\n",
    "\n",
    "Run the following code to normalize the dataset and learn about its shapes."
   ]
  },
  {
   "cell_type": "code",
   "execution_count": 18,
   "metadata": {},
   "outputs": [
    {
     "name": "stdout",
     "output_type": "stream",
     "text": [
      "number of training examples = 600\n",
      "number of test examples = 150\n",
      "X_train shape: (600, 64, 64, 3)\n",
      "Y_train shape: (600, 1)\n",
      "X_test shape: (150, 64, 64, 3)\n",
      "Y_test shape: (150, 1)\n"
     ]
    }
   ],
   "source": [
    "X_train_orig, Y_train_orig, X_test_orig, Y_test_orig, classes = load_dataset()\n",
    "\n",
    "# Normalize image vectors\n",
    "X_train = X_train_orig/255.\n",
    "X_test = X_test_orig/255.\n",
    "\n",
    "# Reshape\n",
    "Y_train = Y_train_orig.T\n",
    "Y_test = Y_test_orig.T\n",
    "\n",
    "print (\"number of training examples = \" + str(X_train.shape[0]))\n",
    "print (\"number of test examples = \" + str(X_test.shape[0]))\n",
    "print (\"X_train shape: \" + str(X_train.shape))\n",
    "print (\"Y_train shape: \" + str(Y_train.shape))\n",
    "print (\"X_test shape: \" + str(X_test.shape))\n",
    "print (\"Y_test shape: \" + str(Y_test.shape))"
   ]
  },
  {
   "cell_type": "markdown",
   "metadata": {},
   "source": [
    "**Details of the \"Face\" dataset**:\n",
    "- Images are of shape (64,64,3)\n",
    "- Training: 600 pictures\n",
    "- Test: 150 pictures"
   ]
  },
  {
   "cell_type": "markdown",
   "metadata": {},
   "source": [
    "## 2 - Building a model in Keras\n",
    "\n",
    "Keras is very good for rapid prototyping. In just a short time you will be able to build a model that achieves outstanding results.\n",
    "\n",
    "Here is an example of a model in Keras:\n",
    "\n",
    "```python\n",
    "def model(input_shape):\n",
    "    \"\"\"\n",
    "    input_shape: The height, width and channels as a tuple.  \n",
    "        Note that this does not include the 'batch' as a dimension.\n",
    "        If you have a batch like 'X_train', \n",
    "        then you can provide the input_shape using\n",
    "        X_train.shape[1:]\n",
    "    \"\"\"\n",
    "    \n",
    "    # Define the input placeholder as a tensor with shape input_shape. Think of this as your input image!\n",
    "    X_input = Input(input_shape)\n",
    "\n",
    "    # Zero-Padding: pads the border of X_input with zeroes\n",
    "    X = ZeroPadding2D((3, 3))(X_input)\n",
    "\n",
    "    # CONV -> BN -> RELU Block applied to X\n",
    "    X = Conv2D(32, (7, 7), strides = (1, 1), name = 'conv0')(X)\n",
    "    X = BatchNormalization(axis = 3, name = 'bn0')(X)\n",
    "    X = Activation('relu')(X)\n",
    "\n",
    "    # MAXPOOL\n",
    "    X = MaxPooling2D((2, 2), name='max_pool')(X)\n",
    "\n",
    "    # FLATTEN X (means convert it to a vector) + FULLYCONNECTED\n",
    "    X = Flatten()(X)\n",
    "    X = Dense(1, activation='sigmoid', name='fc')(X)\n",
    "\n",
    "    # Create model. This creates your Keras model instance, you'll use this instance to train/test the model.\n",
    "    model = Model(inputs = X_input, outputs = X, name='HappyModel')\n",
    "    \n",
    "    return model\n",
    "```"
   ]
  },
  {
   "cell_type": "markdown",
   "metadata": {},
   "source": [
    "#### Variable naming convention\n",
    "\n",
    "* Note that Keras uses a different convention with variable names than we've previously used with numpy and TensorFlow. \n",
    "* Instead of creating unique variable names for each step and each layer, such as \n",
    "```\n",
    "X = ...\n",
    "Z1 = ...\n",
    "A1 = ...\n",
    "```\n",
    "* Keras re-uses and overwrites the same variable at each step:\n",
    "```\n",
    "X = ...\n",
    "X = ...\n",
    "X = ...\n",
    "```\n",
    "* The exception is `X_input`, which we kept separate since it's needed later."
   ]
  },
  {
   "cell_type": "markdown",
   "metadata": {},
   "source": [
    "#### Objects as functions\n",
    "* Notice how there are two pairs of parentheses in each statement.  For example:\n",
    "```\n",
    "X = ZeroPadding2D((3, 3))(X_input)\n",
    "```\n",
    "* The first is a constructor call which creates an object (ZeroPadding2D).\n",
    "* In Python, objects can be called as functions. Search for 'python object as function and you can read this blog post [Python Pandemonium](https://medium.com/python-pandemonium/function-as-objects-in-python-d5215e6d1b0d).  See the section titled \"Objects as functions.\"\n",
    "* The single line is equivalent to this:\n",
    "```\n",
    "ZP = ZeroPadding2D((3, 3)) # ZP is an object that can be called as a function\n",
    "X = ZP(X_input) \n",
    "```"
   ]
  },
  {
   "cell_type": "markdown",
   "metadata": {},
   "source": [
    "**Exercise**: Implement a `HappyModel()`.  \n",
    "* This assignment is more open-ended than most. \n",
    "* Start by implementing a model using the architecture we suggest, and run through the rest of this assignment using that as your initial model. * Later, come back and try out other model architectures. \n",
    "* For example, you might take inspiration from the model above, but then vary the network architecture and hyperparameters however you wish. \n",
    "* You can also use other functions such as `AveragePooling2D()`, `GlobalMaxPooling2D()`, `Dropout()`. \n",
    "\n",
    "**Note**: Be careful with your data's shapes. Use what you've learned in the videos to make sure your convolutional, pooling and fully-connected layers are adapted to the volumes you're applying it to."
   ]
  },
  {
   "cell_type": "code",
   "execution_count": 27,
   "metadata": {
    "collapsed": true
   },
   "outputs": [],
   "source": [
    "# GRADED FUNCTION: HappyModel\n",
    "\n",
    "def HappyModel(input_shape):\n",
    "    \"\"\"\n",
    "    Implementation of the HappyModel.\n",
    "    \n",
    "    Arguments:\n",
    "    input_shape -- shape of the images of the dataset\n",
    "        (height, width, channels) as a tuple.  \n",
    "        Note that this does not include the 'batch' as a dimension.\n",
    "        If you have a batch like 'X_train', \n",
    "        then you can provide the input_shape using\n",
    "        X_train.shape[1:]\n",
    "    \"\"\"\n",
    "    X_input = Input(input_shape)\n",
    "\n",
    "\n",
    "    X = ZeroPadding2D((1,1))(X_input)\n",
    "    X = Conv2D(8, (3, 3), strides = (1, 1), name = 'conv0')(X)\n",
    "    X = BatchNormalization(axis = 3, name = 'bn0')(X)\n",
    "    X = Activation('relu')(X)\n",
    "\n",
    "    X = MaxPooling2D((2, 2), name='max_pool')(X)\n",
    "    # size  32 * 32 * 8\n",
    "\n",
    "    X = ZeroPadding2D((2,2))(X)\n",
    "    X = Conv2D(16, (5, 5), strides = (1, 1), name = 'conv1')(X)\n",
    "    X = BatchNormalization(axis = 3, name = 'bn1')(X)\n",
    "    X = Activation('relu')(X)\n",
    "\n",
    "    X = MaxPooling2D((2, 2), name='max_pool1')(X)\n",
    "    # size  16 * 16 * 16\n",
    "\n",
    "    X = ZeroPadding2D((2,2))(X)\n",
    "    X = Conv2D(32, (5, 5), strides = (1, 1), name = 'conv2')(X)\n",
    "    X = BatchNormalization(axis = 3, name = 'bn2')(X)\n",
    "    X = Activation('relu')(X)\n",
    "\n",
    "    X = MaxPooling2D((2, 2), name='max_pool2')(X)\n",
    "    # size  8 * 8 * 16\n",
    "\n",
    "\n",
    "    X = Flatten()(X)\n",
    "    X = Dense(1, activation='sigmoid', name='fc')(X)\n",
    "\n",
    "    model = Model(inputs = X_input, outputs = X, name='HappyModel')\n",
    "    \n",
    "    return model\n",
    "    \"\"\"\n",
    "    \n",
    "    ### START CODE HERE ###\n",
    "    # Feel free to use the suggested outline in the text above to get started, and run through the whole\n",
    "    # exercise (including the later portions of this notebook) once. The come back also try out other\n",
    "    # network architectures as well. \n",
    "    \n",
    "    \n",
    "    ### END CODE HERE ###\n",
    "    \"\"\"\n",
    "    "
   ]
  },
  {
   "cell_type": "markdown",
   "metadata": {},
   "source": [
    "You have now built a function to describe your model. To train and test this model, there are four steps in Keras:\n",
    "1. Create the model by calling the function above  \n",
    "\n",
    "2. Compile the model by calling `model.compile(optimizer = \"...\", loss = \"...\", metrics = [\"accuracy\"])`  \n",
    "\n",
    "3. Train the model on train data by calling `model.fit(x = ..., y = ..., epochs = ..., batch_size = ...)`  \n",
    "\n",
    "4. Test the model on test data by calling `model.evaluate(x = ..., y = ...)`  \n",
    "\n",
    "If you want to know more about `model.compile()`, `model.fit()`, `model.evaluate()` and their arguments, refer to the official [Keras documentation](https://keras.io/models/model/)."
   ]
  },
  {
   "cell_type": "markdown",
   "metadata": {},
   "source": [
    "#### Step 1: create the model.  \n",
    "**Hint**:  \n",
    "The `input_shape` parameter is a tuple (height, width, channels).  It excludes the batch number.  \n",
    "Try `X_train.shape[1:]` as the `input_shape`."
   ]
  },
  {
   "cell_type": "code",
   "execution_count": 28,
   "metadata": {
    "collapsed": true
   },
   "outputs": [],
   "source": [
    "### START CODE HERE ### (1 line)\n",
    "happyModel = HappyModel(X_train.shape[1:])\n",
    "### END CODE HERE ###"
   ]
  },
  {
   "cell_type": "markdown",
   "metadata": {},
   "source": [
    "#### Step 2: compile the model\n",
    "\n",
    "**Hint**:  \n",
    "Optimizers you can try include `'adam'`, `'sgd'` or others.  See the documentation for [optimizers](https://keras.io/optimizers/)  \n",
    "The \"happiness detection\" is a binary classification problem.  The loss function that you can use is `'binary_cross_entropy'`.  Note that `'categorical_cross_entropy'` won't work with your data set as its formatted, because the data is an array of 0 or 1 rather than two arrays (one for each category).  Documentation for [losses](https://keras.io/losses/)"
   ]
  },
  {
   "cell_type": "code",
   "execution_count": 29,
   "metadata": {
    "collapsed": true
   },
   "outputs": [],
   "source": [
    "### START CODE HERE ### (1 line)\n",
    "happyModel.compile(loss='binary_crossentropy', optimizer='adam', metrics=[\"accuracy\"])\n",
    "### END CODE HERE ###"
   ]
  },
  {
   "cell_type": "markdown",
   "metadata": {},
   "source": [
    "#### Step 3: train the model\n",
    "\n",
    "**Hint**:  \n",
    "Use the `'X_train'`, `'Y_train'` variables.  Use integers for the epochs and batch_size\n",
    "\n",
    "**Note**: If you run `fit()` again, the `model` will continue to train with the parameters it has already learned instead of reinitializing them."
   ]
  },
  {
   "cell_type": "code",
   "execution_count": 30,
   "metadata": {},
   "outputs": [
    {
     "name": "stdout",
     "output_type": "stream",
     "text": [
      "Epoch 1/25\n",
      "600/600 [==============================] - 6s - loss: 0.4907 - acc: 0.7633     \n",
      "Epoch 2/25\n",
      "600/600 [==============================] - 6s - loss: 0.1692 - acc: 0.9483     \n",
      "Epoch 3/25\n",
      "600/600 [==============================] - 6s - loss: 0.0995 - acc: 0.9767     \n",
      "Epoch 4/25\n",
      "600/600 [==============================] - 6s - loss: 0.0744 - acc: 0.9783     \n",
      "Epoch 5/25\n",
      "600/600 [==============================] - 6s - loss: 0.0479 - acc: 0.9917     \n",
      "Epoch 6/25\n",
      "600/600 [==============================] - 6s - loss: 0.0347 - acc: 0.9933     \n",
      "Epoch 7/25\n",
      "600/600 [==============================] - 6s - loss: 0.0371 - acc: 0.9933     \n",
      "Epoch 8/25\n",
      "600/600 [==============================] - 6s - loss: 0.0254 - acc: 0.9933     \n",
      "Epoch 9/25\n",
      "600/600 [==============================] - 6s - loss: 0.0248 - acc: 0.9900     \n",
      "Epoch 10/25\n",
      "600/600 [==============================] - 6s - loss: 0.0171 - acc: 0.9983     \n",
      "Epoch 11/25\n",
      "600/600 [==============================] - 6s - loss: 0.0282 - acc: 0.9950     \n",
      "Epoch 12/25\n",
      "600/600 [==============================] - 6s - loss: 0.0109 - acc: 1.0000     \n",
      "Epoch 13/25\n",
      "600/600 [==============================] - 6s - loss: 0.0084 - acc: 0.9967     \n",
      "Epoch 14/25\n",
      "600/600 [==============================] - 6s - loss: 0.0102 - acc: 0.9983     \n",
      "Epoch 15/25\n",
      "600/600 [==============================] - 6s - loss: 0.0078 - acc: 0.9983     \n",
      "Epoch 16/25\n",
      "600/600 [==============================] - 6s - loss: 0.0051 - acc: 1.0000     \n",
      "Epoch 17/25\n",
      "600/600 [==============================] - 6s - loss: 0.0037 - acc: 1.0000     \n",
      "Epoch 18/25\n",
      "600/600 [==============================] - 6s - loss: 0.0100 - acc: 0.9983     \n",
      "Epoch 19/25\n",
      "600/600 [==============================] - 6s - loss: 0.0042 - acc: 1.0000     \n",
      "Epoch 20/25\n",
      "600/600 [==============================] - 6s - loss: 0.0031 - acc: 1.0000     \n",
      "Epoch 21/25\n",
      "600/600 [==============================] - 6s - loss: 0.0049 - acc: 0.9967     \n",
      "Epoch 22/25\n",
      "600/600 [==============================] - 6s - loss: 0.0033 - acc: 1.0000     \n",
      "Epoch 23/25\n",
      "600/600 [==============================] - 6s - loss: 0.0014 - acc: 1.0000     \n",
      "Epoch 24/25\n",
      "600/600 [==============================] - 6s - loss: 0.0011 - acc: 1.0000         \n",
      "Epoch 25/25\n",
      "600/600 [==============================] - 6s - loss: 0.0013 - acc: 1.0000     \n"
     ]
    },
    {
     "data": {
      "text/plain": [
       "<keras.callbacks.History at 0x7fa5e5329588>"
      ]
     },
     "execution_count": 30,
     "metadata": {},
     "output_type": "execute_result"
    }
   ],
   "source": [
    "### START CODE HERE ### (1 line)\n",
    "happyModel.fit(x = X_train, y = Y_train, epochs = 25, batch_size = 16)\n",
    "### END CODE HERE ###"
   ]
  },
  {
   "cell_type": "markdown",
   "metadata": {},
   "source": [
    "#### Step 4: evaluate model  \n",
    "**Hint**:  \n",
    "Use the `'X_test'` and `'Y_test'` variables to evaluate the model's performance."
   ]
  },
  {
   "cell_type": "code",
   "execution_count": 31,
   "metadata": {
    "scrolled": true
   },
   "outputs": [
    {
     "name": "stdout",
     "output_type": "stream",
     "text": [
      "150/150 [==============================] - 0s     \n",
      "[0.093360331853230796, 0.97333333730697635]\n"
     ]
    }
   ],
   "source": [
    "### START CODE HERE ### (1 line)\n",
    "preds = happyModel.evaluate(x = X_test, y = Y_test)\n",
    "#preds = happyModel.predict(X_test)\n",
    "\n",
    "### END CODE HERE ###\n",
    "print(preds)\n",
    "#print (\"Loss = \" + str(preds[0]))\n",
    "#print (\"Test Accuracy = \" + str(preds[1]))"
   ]
  },
  {
   "cell_type": "markdown",
   "metadata": {},
   "source": [
    "#### Expected performance   \n",
    "If your `happyModel()` function worked, its accuracy should be better than random guessing (50% accuracy).\n",
    "\n",
    "To give you a point of comparison, our model gets around **95% test accuracy in 40 epochs** (and 99% train accuracy) with a mini batch size of 16 and \"adam\" optimizer."
   ]
  },
  {
   "cell_type": "markdown",
   "metadata": {},
   "source": [
    "#### Tips for improving your model\n",
    "\n",
    "If you have not yet achieved a very good accuracy (>= 80%), here are some things tips:\n",
    "\n",
    "- Use blocks of CONV->BATCHNORM->RELU such as:\n",
    "```python\n",
    "X = Conv2D(32, (3, 3), strides = (1, 1), name = 'conv0')(X)\n",
    "X = BatchNormalization(axis = 3, name = 'bn0')(X)\n",
    "X = Activation('relu')(X)\n",
    "```\n",
    "until your height and width dimensions are quite low and your number of channels quite large (≈32 for example).  \n",
    "You can then flatten the volume and use a fully-connected layer.\n",
    "- Use MAXPOOL after such blocks.  It will help you lower the dimension in height and width.\n",
    "- Change your optimizer. We find 'adam' works well. \n",
    "- If you get memory issues, lower your batch_size (e.g. 12 )\n",
    "- Run more epochs until you see the train accuracy no longer improves. \n",
    "\n",
    "**Note**: If you perform hyperparameter tuning on your model, the test set actually becomes a dev set, and your model might end up overfitting to the test (dev) set. Normally, you'll want separate dev and test sets.  The dev set is used for parameter tuning, and the test set is used once to estimate the model's performance in production."
   ]
  },
  {
   "cell_type": "markdown",
   "metadata": {},
   "source": [
    "## 3 - Conclusion\n",
    "\n",
    "Congratulations, you have created a proof of concept for \"happiness detection\"!"
   ]
  },
  {
   "cell_type": "markdown",
   "metadata": {},
   "source": [
    "## Key Points to remember\n",
    "- Keras is a tool we recommend for rapid prototyping. It allows you to quickly try out different model architectures.\n",
    "- Remember The four steps in Keras: \n",
    "\n",
    "\n",
    "1. Create  \n",
    "2. Compile  \n",
    "3. Fit/Train  \n",
    "4. Evaluate/Test  "
   ]
  },
  {
   "cell_type": "markdown",
   "metadata": {},
   "source": [
    "## 4 - Test with your own image (Optional)\n",
    "\n",
    "Congratulations on finishing this assignment. You can now take a picture of your face and see if it can classify whether your expression is \"happy\" or \"not happy\". To do that:\n",
    "\n",
    "\n",
    "1. Click on \"File\" in the upper bar of this notebook, then click \"Open\" to go on your Coursera Hub.\n",
    "2. Add your image to this Jupyter Notebook's directory, in the \"images\" folder\n",
    "3. Write your image's name in the following code\n",
    "4. Run the code and check if the algorithm is right (0 is not happy, 1 is happy)!\n",
    "    \n",
    "The training/test sets were quite similar; for example, all the pictures were taken against the same background (since a front door camera is always mounted in the same position). This makes the problem easier, but a model trained on this data may or may not work on your own data. But feel free to give it a try! "
   ]
  },
  {
   "cell_type": "code",
   "execution_count": 35,
   "metadata": {},
   "outputs": [
    {
     "name": "stdout",
     "output_type": "stream",
     "text": [
      "[[ 1.]]\n"
     ]
    },
    {
     "data": {
      "image/png": "[encoded data removed]",
      "text/plain": [
       "<matplotlib.figure.Figure at 0x7fa5e48a2a20>"
      ]
     },
     "metadata": {},
     "output_type": "display_data"
    }
   ],
   "source": [
    "### START CODE HERE ###\n",
    "img_path = 'images/sad.jpg'\n",
    "### END CODE HERE ###\n",
    "img = image.load_img(img_path, target_size=(64, 64))\n",
    "imshow(img)\n",
    "\n",
    "x = image.img_to_array(img)\n",
    "x = np.expand_dims(x, axis=0)\n",
    "x = preprocess_input(x)\n",
    "\n",
    "print(happyModel.predict(x))"
   ]
  },
  {
   "cell_type": "markdown",
   "metadata": {},
   "source": [
    "## 5 - Other useful functions in Keras (Optional)\n",
    "\n",
    "Two other basic features of Keras that you'll find useful are:\n",
    "- `model.summary()`: prints the details of your layers in a table with the sizes of its inputs/outputs\n",
    "- `plot_model()`: plots your graph in a nice layout. You can even save it as \".png\" using SVG() if you'd like to share it on social media ;). It is saved in \"File\" then \"Open...\" in the upper bar of the notebook.\n",
    "\n",
    "Run the following code."
   ]
  },
  {
   "cell_type": "code",
   "execution_count": 37,
   "metadata": {
    "scrolled": false
   },
   "outputs": [
    {
     "name": "stdout",
     "output_type": "stream",
     "text": [
      "_________________________________________________________________\n",
      "Layer (type)                 Output Shape              Param #   \n",
      "=================================================================\n",
      "input_4 (InputLayer)         (None, 64, 64, 3)         0         \n",
      "_________________________________________________________________\n",
      "zero_padding2d_10 (ZeroPaddi (None, 66, 66, 3)         0         \n",
      "_________________________________________________________________\n",
      "conv0 (Conv2D)               (None, 64, 64, 8)         224       \n",
      "_________________________________________________________________\n",
      "bn0 (BatchNormalization)     (None, 64, 64, 8)         32        \n",
      "_________________________________________________________________\n",
      "activation_10 (Activation)   (None, 64, 64, 8)         0         \n",
      "_________________________________________________________________\n",
      "max_pool (MaxPooling2D)      (None, 32, 32, 8)         0         \n",
      "_________________________________________________________________\n",
      "zero_padding2d_11 (ZeroPaddi (None, 36, 36, 8)         0         \n",
      "_________________________________________________________________\n",
      "conv1 (Conv2D)               (None, 32, 32, 16)        3216      \n",
      "_________________________________________________________________\n",
      "bn1 (BatchNormalization)     (None, 32, 32, 16)        64        \n",
      "_________________________________________________________________\n",
      "activation_11 (Activation)   (None, 32, 32, 16)        0         \n",
      "_________________________________________________________________\n",
      "max_pool1 (MaxPooling2D)     (None, 16, 16, 16)        0         \n",
      "_________________________________________________________________\n",
      "zero_padding2d_12 (ZeroPaddi (None, 20, 20, 16)        0         \n",
      "_________________________________________________________________\n",
      "conv2 (Conv2D)               (None, 16, 16, 32)        12832     \n",
      "_________________________________________________________________\n",
      "bn2 (BatchNormalization)     (None, 16, 16, 32)        128       \n",
      "_________________________________________________________________\n",
      "activation_12 (Activation)   (None, 16, 16, 32)        0         \n",
      "_________________________________________________________________\n",
      "max_pool2 (MaxPooling2D)     (None, 8, 8, 32)          0         \n",
      "_________________________________________________________________\n",
      "flatten_4 (Flatten)          (None, 2048)              0         \n",
      "_________________________________________________________________\n",
      "fc (Dense)                   (None, 1)                 2049      \n",
      "=================================================================\n",
      "Total params: 18,545\n",
      "Trainable params: 18,433\n",
      "Non-trainable params: 112\n",
      "_________________________________________________________________\n"
     ]
    }
   ],
   "source": [
    "happyModel.summary()"
   ]
  },
  {
   "cell_type": "code",
   "execution_count": 38,
   "metadata": {},
   "outputs": [
    {
     "data": {
      "image/svg+xml": [
       "<svg height=\"1286pt\" viewBox=\"0.00 0.00 226.00 1286.00\" width=\"226pt\" xmlns=\"http://www.w3.org/2000/svg\" xmlns:xlink=\"http://www.w3.org/1999/xlink\">\n",
       "<g class=\"graph\" id=\"graph0\" transform=\"scale(1 1) rotate(0) translate(4 1282)\">\n",
       "<title>G</title>\n",
       "<polygon fill=\"white\" points=\"-4,4 -4,-1282 222,-1282 222,4 -4,4\" stroke=\"none\"/>\n",
       "<!-- 140350491092024 -->\n",
       "<g class=\"node\" id=\"node1\"><title>140350491092024</title>\n",
       "<polygon fill=\"none\" points=\"46.5,-1241.5 46.5,-1277.5 171.5,-1277.5 171.5,-1241.5 46.5,-1241.5\" stroke=\"black\"/>\n",
       "<text font-family=\"Times,serif\" font-size=\"14.00\" text-anchor=\"middle\" x=\"109\" y=\"-1255.8\">input_4: InputLayer</text>\n",
       "</g>\n",
       "<!-- 140350491034680 -->\n",
       "<g class=\"node\" id=\"node2\"><title>140350491034680</title>\n",
       "<polygon fill=\"none\" points=\"0,-1168.5 0,-1204.5 218,-1204.5 218,-1168.5 0,-1168.5\" stroke=\"black\"/>\n",
       "<text font-family=\"Times,serif\" font-size=\"14.00\" text-anchor=\"middle\" x=\"109\" y=\"-1182.8\">zero_padding2d_10: ZeroPadding2D</text>\n",
       "</g>\n",
       "<!-- 140350491092024&#45;&gt;140350491034680 -->\n",
       "<g class=\"edge\" id=\"edge1\"><title>140350491092024-&gt;140350491034680</title>\n",
       "<path d=\"M109,-1241.31C109,-1233.29 109,-1223.55 109,-1214.57\" fill=\"none\" stroke=\"black\"/>\n",
       "<polygon fill=\"black\" points=\"112.5,-1214.53 109,-1204.53 105.5,-1214.53 112.5,-1214.53\" stroke=\"black\"/>\n",
       "</g>\n",
       "<!-- 140350491037424 -->\n",
       "<g class=\"node\" id=\"node3\"><title>140350491037424</title>\n",
       "<polygon fill=\"none\" points=\"57.5,-1095.5 57.5,-1131.5 160.5,-1131.5 160.5,-1095.5 57.5,-1095.5\" stroke=\"black\"/>\n",
       "<text font-family=\"Times,serif\" font-size=\"14.00\" text-anchor=\"middle\" x=\"109\" y=\"-1109.8\">conv0: Conv2D</text>\n",
       "</g>\n",
       "<!-- 140350491034680&#45;&gt;140350491037424 -->\n",
       "<g class=\"edge\" id=\"edge2\"><title>140350491034680-&gt;140350491037424</title>\n",
       "<path d=\"M109,-1168.31C109,-1160.29 109,-1150.55 109,-1141.57\" fill=\"none\" stroke=\"black\"/>\n",
       "<polygon fill=\"black\" points=\"112.5,-1141.53 109,-1131.53 105.5,-1141.53 112.5,-1141.53\" stroke=\"black\"/>\n",
       "</g>\n",
       "<!-- 140350612950376 -->\n",
       "<g class=\"node\" id=\"node4\"><title>140350612950376</title>\n",
       "<polygon fill=\"none\" points=\"31.5,-1022.5 31.5,-1058.5 186.5,-1058.5 186.5,-1022.5 31.5,-1022.5\" stroke=\"black\"/>\n",
       "<text font-family=\"Times,serif\" font-size=\"14.00\" text-anchor=\"middle\" x=\"109\" y=\"-1036.8\">bn0: BatchNormalization</text>\n",
       "</g>\n",
       "<!-- 140350491037424&#45;&gt;140350612950376 -->\n",
       "<g class=\"edge\" id=\"edge3\"><title>140350491037424-&gt;140350612950376</title>\n",
       "<path d=\"M109,-1095.31C109,-1087.29 109,-1077.55 109,-1068.57\" fill=\"none\" stroke=\"black\"/>\n",
       "<polygon fill=\"black\" points=\"112.5,-1068.53 109,-1058.53 105.5,-1068.53 112.5,-1068.53\" stroke=\"black\"/>\n",
       "</g>\n",
       "<!-- 140350491304120 -->\n",
       "<g class=\"node\" id=\"node5\"><title>140350491304120</title>\n",
       "<polygon fill=\"none\" points=\"31.5,-949.5 31.5,-985.5 186.5,-985.5 186.5,-949.5 31.5,-949.5\" stroke=\"black\"/>\n",
       "<text font-family=\"Times,serif\" font-size=\"14.00\" text-anchor=\"middle\" x=\"109\" y=\"-963.8\">activation_10: Activation</text>\n",
       "</g>\n",
       "<!-- 140350612950376&#45;&gt;140350491304120 -->\n",
       "<g class=\"edge\" id=\"edge4\"><title>140350612950376-&gt;140350491304120</title>\n",
       "<path d=\"M109,-1022.31C109,-1014.29 109,-1004.55 109,-995.569\" fill=\"none\" stroke=\"black\"/>\n",
       "<polygon fill=\"black\" points=\"112.5,-995.529 109,-985.529 105.5,-995.529 112.5,-995.529\" stroke=\"black\"/>\n",
       "</g>\n",
       "<!-- 140350491845744 -->\n",
       "<g class=\"node\" id=\"node6\"><title>140350491845744</title>\n",
       "<polygon fill=\"none\" points=\"27.5,-876.5 27.5,-912.5 190.5,-912.5 190.5,-876.5 27.5,-876.5\" stroke=\"black\"/>\n",
       "<text font-family=\"Times,serif\" font-size=\"14.00\" text-anchor=\"middle\" x=\"109\" y=\"-890.8\">max_pool: MaxPooling2D</text>\n",
       "</g>\n",
       "<!-- 140350491304120&#45;&gt;140350491845744 -->\n",
       "<g class=\"edge\" id=\"edge5\"><title>140350491304120-&gt;140350491845744</title>\n",
       "<path d=\"M109,-949.313C109,-941.289 109,-931.547 109,-922.569\" fill=\"none\" stroke=\"black\"/>\n",
       "<polygon fill=\"black\" points=\"112.5,-922.529 109,-912.529 105.5,-922.529 112.5,-922.529\" stroke=\"black\"/>\n",
       "</g>\n",
       "<!-- 140350491091912 -->\n",
       "<g class=\"node\" id=\"node7\"><title>140350491091912</title>\n",
       "<polygon fill=\"none\" points=\"0,-803.5 0,-839.5 218,-839.5 218,-803.5 0,-803.5\" stroke=\"black\"/>\n",
       "<text font-family=\"Times,serif\" font-size=\"14.00\" text-anchor=\"middle\" x=\"109\" y=\"-817.8\">zero_padding2d_11: ZeroPadding2D</text>\n",
       "</g>\n",
       "<!-- 140350491845744&#45;&gt;140350491091912 -->\n",
       "<g class=\"edge\" id=\"edge6\"><title>140350491845744-&gt;140350491091912</title>\n",
       "<path d=\"M109,-876.313C109,-868.289 109,-858.547 109,-849.569\" fill=\"none\" stroke=\"black\"/>\n",
       "<polygon fill=\"black\" points=\"112.5,-849.529 109,-839.529 105.5,-849.529 112.5,-849.529\" stroke=\"black\"/>\n",
       "</g>\n",
       "<!-- 140350514528888 -->\n",
       "<g class=\"node\" id=\"node8\"><title>140350514528888</title>\n",
       "<polygon fill=\"none\" points=\"57.5,-730.5 57.5,-766.5 160.5,-766.5 160.5,-730.5 57.5,-730.5\" stroke=\"black\"/>\n",
       "<text font-family=\"Times,serif\" font-size=\"14.00\" text-anchor=\"middle\" x=\"109\" y=\"-744.8\">conv1: Conv2D</text>\n",
       "</g>\n",
       "<!-- 140350491091912&#45;&gt;140350514528888 -->\n",
       "<g class=\"edge\" id=\"edge7\"><title>140350491091912-&gt;140350514528888</title>\n",
       "<path d=\"M109,-803.313C109,-795.289 109,-785.547 109,-776.569\" fill=\"none\" stroke=\"black\"/>\n",
       "<polygon fill=\"black\" points=\"112.5,-776.529 109,-766.529 105.5,-776.529 112.5,-776.529\" stroke=\"black\"/>\n",
       "</g>\n",
       "<!-- 140350490589504 -->\n",
       "<g class=\"node\" id=\"node9\"><title>140350490589504</title>\n",
       "<polygon fill=\"none\" points=\"31.5,-657.5 31.5,-693.5 186.5,-693.5 186.5,-657.5 31.5,-657.5\" stroke=\"black\"/>\n",
       "<text font-family=\"Times,serif\" font-size=\"14.00\" text-anchor=\"middle\" x=\"109\" y=\"-671.8\">bn1: BatchNormalization</text>\n",
       "</g>\n",
       "<!-- 140350514528888&#45;&gt;140350490589504 -->\n",
       "<g class=\"edge\" id=\"edge8\"><title>140350514528888-&gt;140350490589504</title>\n",
       "<path d=\"M109,-730.313C109,-722.289 109,-712.547 109,-703.569\" fill=\"none\" stroke=\"black\"/>\n",
       "<polygon fill=\"black\" points=\"112.5,-703.529 109,-693.529 105.5,-703.529 112.5,-703.529\" stroke=\"black\"/>\n",
       "</g>\n",
       "<!-- 140350490246840 -->\n",
       "<g class=\"node\" id=\"node10\"><title>140350490246840</title>\n",
       "<polygon fill=\"none\" points=\"31.5,-584.5 31.5,-620.5 186.5,-620.5 186.5,-584.5 31.5,-584.5\" stroke=\"black\"/>\n",
       "<text font-family=\"Times,serif\" font-size=\"14.00\" text-anchor=\"middle\" x=\"109\" y=\"-598.8\">activation_11: Activation</text>\n",
       "</g>\n",
       "<!-- 140350490589504&#45;&gt;140350490246840 -->\n",
       "<g class=\"edge\" id=\"edge9\"><title>140350490589504-&gt;140350490246840</title>\n",
       "<path d=\"M109,-657.313C109,-649.289 109,-639.547 109,-630.569\" fill=\"none\" stroke=\"black\"/>\n",
       "<polygon fill=\"black\" points=\"112.5,-630.529 109,-620.529 105.5,-630.529 112.5,-630.529\" stroke=\"black\"/>\n",
       "</g>\n",
       "<!-- 140350490336504 -->\n",
       "<g class=\"node\" id=\"node11\"><title>140350490336504</title>\n",
       "<polygon fill=\"none\" points=\"24,-511.5 24,-547.5 194,-547.5 194,-511.5 24,-511.5\" stroke=\"black\"/>\n",
       "<text font-family=\"Times,serif\" font-size=\"14.00\" text-anchor=\"middle\" x=\"109\" y=\"-525.8\">max_pool1: MaxPooling2D</text>\n",
       "</g>\n",
       "<!-- 140350490246840&#45;&gt;140350490336504 -->\n",
       "<g class=\"edge\" id=\"edge10\"><title>140350490246840-&gt;140350490336504</title>\n",
       "<path d=\"M109,-584.313C109,-576.289 109,-566.547 109,-557.569\" fill=\"none\" stroke=\"black\"/>\n",
       "<polygon fill=\"black\" points=\"112.5,-557.529 109,-547.529 105.5,-557.529 112.5,-557.529\" stroke=\"black\"/>\n",
       "</g>\n",
       "<!-- 140350489898624 -->\n",
       "<g class=\"node\" id=\"node12\"><title>140350489898624</title>\n",
       "<polygon fill=\"none\" points=\"0,-438.5 0,-474.5 218,-474.5 218,-438.5 0,-438.5\" stroke=\"black\"/>\n",
       "<text font-family=\"Times,serif\" font-size=\"14.00\" text-anchor=\"middle\" x=\"109\" y=\"-452.8\">zero_padding2d_12: ZeroPadding2D</text>\n",
       "</g>\n",
       "<!-- 140350490336504&#45;&gt;140350489898624 -->\n",
       "<g class=\"edge\" id=\"edge11\"><title>140350490336504-&gt;140350489898624</title>\n",
       "<path d=\"M109,-511.313C109,-503.289 109,-493.547 109,-484.569\" fill=\"none\" stroke=\"black\"/>\n",
       "<polygon fill=\"black\" points=\"112.5,-484.529 109,-474.529 105.5,-484.529 112.5,-484.529\" stroke=\"black\"/>\n",
       "</g>\n",
       "<!-- 140350489992552 -->\n",
       "<g class=\"node\" id=\"node13\"><title>140350489992552</title>\n",
       "<polygon fill=\"none\" points=\"57.5,-365.5 57.5,-401.5 160.5,-401.5 160.5,-365.5 57.5,-365.5\" stroke=\"black\"/>\n",
       "<text font-family=\"Times,serif\" font-size=\"14.00\" text-anchor=\"middle\" x=\"109\" y=\"-379.8\">conv2: Conv2D</text>\n",
       "</g>\n",
       "<!-- 140350489898624&#45;&gt;140350489992552 -->\n",
       "<g class=\"edge\" id=\"edge12\"><title>140350489898624-&gt;140350489992552</title>\n",
       "<path d=\"M109,-438.313C109,-430.289 109,-420.547 109,-411.569\" fill=\"none\" stroke=\"black\"/>\n",
       "<polygon fill=\"black\" points=\"112.5,-411.529 109,-401.529 105.5,-411.529 112.5,-411.529\" stroke=\"black\"/>\n",
       "</g>\n",
       "<!-- 140350489733216 -->\n",
       "<g class=\"node\" id=\"node14\"><title>140350489733216</title>\n",
       "<polygon fill=\"none\" points=\"31.5,-292.5 31.5,-328.5 186.5,-328.5 186.5,-292.5 31.5,-292.5\" stroke=\"black\"/>\n",
       "<text font-family=\"Times,serif\" font-size=\"14.00\" text-anchor=\"middle\" x=\"109\" y=\"-306.8\">bn2: BatchNormalization</text>\n",
       "</g>\n",
       "<!-- 140350489992552&#45;&gt;140350489733216 -->\n",
       "<g class=\"edge\" id=\"edge13\"><title>140350489992552-&gt;140350489733216</title>\n",
       "<path d=\"M109,-365.313C109,-357.289 109,-347.547 109,-338.569\" fill=\"none\" stroke=\"black\"/>\n",
       "<polygon fill=\"black\" points=\"112.5,-338.529 109,-328.529 105.5,-338.529 112.5,-338.529\" stroke=\"black\"/>\n",
       "</g>\n",
       "<!-- 140350489406880 -->\n",
       "<g class=\"node\" id=\"node15\"><title>140350489406880</title>\n",
       "<polygon fill=\"none\" points=\"31.5,-219.5 31.5,-255.5 186.5,-255.5 186.5,-219.5 31.5,-219.5\" stroke=\"black\"/>\n",
       "<text font-family=\"Times,serif\" font-size=\"14.00\" text-anchor=\"middle\" x=\"109\" y=\"-233.8\">activation_12: Activation</text>\n",
       "</g>\n",
       "<!-- 140350489733216&#45;&gt;140350489406880 -->\n",
       "<g class=\"edge\" id=\"edge14\"><title>140350489733216-&gt;140350489406880</title>\n",
       "<path d=\"M109,-292.313C109,-284.289 109,-274.547 109,-265.569\" fill=\"none\" stroke=\"black\"/>\n",
       "<polygon fill=\"black\" points=\"112.5,-265.529 109,-255.529 105.5,-265.529 112.5,-265.529\" stroke=\"black\"/>\n",
       "</g>\n",
       "<!-- 140350489484312 -->\n",
       "<g class=\"node\" id=\"node16\"><title>140350489484312</title>\n",
       "<polygon fill=\"none\" points=\"24,-146.5 24,-182.5 194,-182.5 194,-146.5 24,-146.5\" stroke=\"black\"/>\n",
       "<text font-family=\"Times,serif\" font-size=\"14.00\" text-anchor=\"middle\" x=\"109\" y=\"-160.8\">max_pool2: MaxPooling2D</text>\n",
       "</g>\n",
       "<!-- 140350489406880&#45;&gt;140350489484312 -->\n",
       "<g class=\"edge\" id=\"edge15\"><title>140350489406880-&gt;140350489484312</title>\n",
       "<path d=\"M109,-219.313C109,-211.289 109,-201.547 109,-192.569\" fill=\"none\" stroke=\"black\"/>\n",
       "<polygon fill=\"black\" points=\"112.5,-192.529 109,-182.529 105.5,-192.529 112.5,-192.529\" stroke=\"black\"/>\n",
       "</g>\n",
       "<!-- 140350489566624 -->\n",
       "<g class=\"node\" id=\"node17\"><title>140350489566624</title>\n",
       "<polygon fill=\"none\" points=\"54,-73.5 54,-109.5 164,-109.5 164,-73.5 54,-73.5\" stroke=\"black\"/>\n",
       "<text font-family=\"Times,serif\" font-size=\"14.00\" text-anchor=\"middle\" x=\"109\" y=\"-87.8\">flatten_4: Flatten</text>\n",
       "</g>\n",
       "<!-- 140350489484312&#45;&gt;140350489566624 -->\n",
       "<g class=\"edge\" id=\"edge16\"><title>140350489484312-&gt;140350489566624</title>\n",
       "<path d=\"M109,-146.313C109,-138.289 109,-128.547 109,-119.569\" fill=\"none\" stroke=\"black\"/>\n",
       "<polygon fill=\"black\" points=\"112.5,-119.529 109,-109.529 105.5,-119.529 112.5,-119.529\" stroke=\"black\"/>\n",
       "</g>\n",
       "<!-- 140350489566064 -->\n",
       "<g class=\"node\" id=\"node18\"><title>140350489566064</title>\n",
       "<polygon fill=\"none\" points=\"75,-0.5 75,-36.5 143,-36.5 143,-0.5 75,-0.5\" stroke=\"black\"/>\n",
       "<text font-family=\"Times,serif\" font-size=\"14.00\" text-anchor=\"middle\" x=\"109\" y=\"-14.8\">fc: Dense</text>\n",
       "</g>\n",
       "<!-- 140350489566624&#45;&gt;140350489566064 -->\n",
       "<g class=\"edge\" id=\"edge17\"><title>140350489566624-&gt;140350489566064</title>\n",
       "<path d=\"M109,-73.3129C109,-65.2895 109,-55.5475 109,-46.5691\" fill=\"none\" stroke=\"black\"/>\n",
       "<polygon fill=\"black\" points=\"112.5,-46.5288 109,-36.5288 105.5,-46.5289 112.5,-46.5288\" stroke=\"black\"/>\n",
       "</g>\n",
       "</g>\n",
       "</svg>"
      ],
      "text/plain": [
       "<IPython.core.display.SVG object>"
      ]
     },
     "execution_count": 38,
     "metadata": {},
     "output_type": "execute_result"
    }
   ],
   "source": [
    "plot_model(happyModel, to_file='HappyModel.png')\n",
    "SVG(model_to_dot(happyModel).create(prog='dot', format='svg'))"
   ]
  },
  {
   "cell_type": "code",
   "execution_count": null,
   "metadata": {
    "collapsed": true
   },
   "outputs": [],
   "source": []
  }
 ],
 "metadata": {
  "kernelspec": {
   "display_name": "Python 3",
   "language": "python",
   "name": "python3"
  },
  "language_info": {
   "codemirror_mode": {
    "name": "ipython",
    "version": 3
   },
   "file_extension": ".py",
   "mimetype": "text/x-python",
   "name": "python",
   "nbconvert_exporter": "python",
   "pygments_lexer": "ipython3",
   "version": "3.6.0"
  }
 },
 "nbformat": 4,
 "nbformat_minor": 2
}
